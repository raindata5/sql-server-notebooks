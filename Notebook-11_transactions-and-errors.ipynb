{
    "metadata": {
        "kernelspec": {
            "name": "SQL",
            "display_name": "SQL",
            "language": "sql"
        },
        "language_info": {
            "name": "sql",
            "version": ""
        },
        "extensions": {
            "azuredatastudio": {
                "version": 1,
                "views": []
            }
        }
    },
    "nbformat_minor": 2,
    "nbformat": 4,
    "cells": [
        {
            "cell_type": "markdown",
            "source": [
                "11-1 Working with transactions a bit"
            ],
            "metadata": {
                "azdata_cell_guid": "e582461e-294c-4d55-a33d-e2f255d4edae"
            },
            "attachments": {}
        },
        {
            "cell_type": "code",
            "source": [
                "-- 1) \r\n",
                "\r\n",
                "USE AdventureWorks2019\r\n",
                "GO\r\n",
                "DROP TABLE if EXISTS dbo.demo;\r\n",
                "CREATE TABLE dbo.demo(ID INT PRIMARY KEY, Name VARCHAR(25));\r\n",
                "\r\n",
                "BEGIN TRAN\r\n",
                "\r\n",
                "INSERT into dbo.demo(id,Name)\r\n",
                "VALUES(1,'Ronald')\r\n",
                "INSERT into dbo.demo(id,Name)\r\n",
                "VALUES(2,'Natalia')\r\n",
                "\r\n",
                "COMMIT TRAN\r\n",
                "GO\r\n",
                "\r\n",
                "select * from dbo.demo ;"
            ],
            "metadata": {
                "azdata_cell_guid": "c79dcac6-7ef7-4a28-a2a6-17d99e8f49ef"
            },
            "outputs": [
                {
                    "output_type": "display_data",
                    "data": {
                        "text/html": "Commands completed successfully."
                    },
                    "metadata": {}
                },
                {
                    "output_type": "display_data",
                    "data": {
                        "text/html": "(1 row affected)"
                    },
                    "metadata": {}
                },
                {
                    "output_type": "display_data",
                    "data": {
                        "text/html": "(1 row affected)"
                    },
                    "metadata": {}
                },
                {
                    "output_type": "display_data",
                    "data": {
                        "text/html": "(2 rows affected)"
                    },
                    "metadata": {}
                },
                {
                    "output_type": "display_data",
                    "data": {
                        "text/html": "Total execution time: 00:00:00.016"
                    },
                    "metadata": {}
                },
                {
                    "output_type": "execute_result",
                    "execution_count": 1,
                    "data": {
                        "application/vnd.dataresource+json": {
                            "schema": {
                                "fields": [
                                    {
                                        "name": "ID"
                                    },
                                    {
                                        "name": "Name"
                                    }
                                ]
                            },
                            "data": [
                                {
                                    "0": "1",
                                    "1": "Ronald"
                                },
                                {
                                    "0": "2",
                                    "1": "Natalia"
                                }
                            ]
                        },
                        "text/html": "<table><tr><th>ID</th><th>Name</th></tr><tr><td>1</td><td>Ronald</td></tr><tr><td>2</td><td>Natalia</td></tr></table>"
                    },
                    "metadata": {}
                }
            ],
            "execution_count": 1
        },
        {
            "cell_type": "code",
            "source": [
                "-- 2) seeing which rows make it to table out of valid and faulty insert statement\r\n",
                "USE AdventureWorks2019\r\n",
                "GO\r\n",
                "\r\n",
                "BEGIN TRAN\r\n",
                "\r\n",
                "INSERT into dbo.demo(id,Name)\r\n",
                "VALUES(3,'Davis')\r\n",
                "INSERT into dbo.demo(id,Name)\r\n",
                "VALUES('a','Davis')\r\n",
                "\r\n",
                "COMMIT TRAN\r\n",
                "GO\r\n",
                "\r\n",
                "select * from dbo.demo ;"
            ],
            "metadata": {
                "azdata_cell_guid": "c9c61bd3-d981-4597-8052-e9a66d1c7c8c"
            },
            "outputs": [
                {
                    "output_type": "display_data",
                    "data": {
                        "text/html": "Commands completed successfully."
                    },
                    "metadata": {}
                },
                {
                    "output_type": "display_data",
                    "data": {
                        "text/html": "(1 row affected)"
                    },
                    "metadata": {}
                },
                {
                    "output_type": "error",
                    "ename": "",
                    "evalue": "Msg 245, Level 16, State 1, Line 9\r\nConversion failed when converting the varchar value 'a' to data type int.",
                    "traceback": []
                },
                {
                    "output_type": "display_data",
                    "data": {
                        "text/html": "(2 rows affected)"
                    },
                    "metadata": {}
                },
                {
                    "output_type": "display_data",
                    "data": {
                        "text/html": "Total execution time: 00:00:00.007"
                    },
                    "metadata": {}
                },
                {
                    "output_type": "execute_result",
                    "execution_count": 3,
                    "data": {
                        "application/vnd.dataresource+json": {
                            "schema": {
                                "fields": [
                                    {
                                        "name": "ID"
                                    },
                                    {
                                        "name": "Name"
                                    }
                                ]
                            },
                            "data": [
                                {
                                    "0": "1",
                                    "1": "Ronald"
                                },
                                {
                                    "0": "2",
                                    "1": "Natalia"
                                }
                            ]
                        },
                        "text/html": "<table><tr><th>ID</th><th>Name</th></tr><tr><td>1</td><td>Ronald</td></tr><tr><td>2</td><td>Natalia</td></tr></table>"
                    },
                    "metadata": {}
                }
            ],
            "execution_count": 3
        },
        {
            "cell_type": "code",
            "source": [
                "-- 3) check"
            ],
            "metadata": {
                "azdata_cell_guid": "e0a82049-871c-4b5a-8cf6-bf3ccdf066ec"
            },
            "outputs": [],
            "execution_count": null
        },
        {
            "cell_type": "code",
            "source": [
                "-- 4) describe the error\r\n",
                "\r\n",
                "USE AdventureWorks2019\r\n",
                "GO\r\n",
                "\r\n",
                "BEGIN TRAN\r\n",
                "    SELECT * INTO dbo.demo2 FROM dbo.demo ; \r\n",
                "        ROLLBACK TRAN ;\r\n",
                "        SELECT * FROM dbo.demo2 ;\r\n",
                "\r\n",
                ""
            ],
            "metadata": {
                "azdata_cell_guid": "d4f8966c-93b0-4a67-876e-842c8daadbc6"
            },
            "outputs": [
                {
                    "output_type": "display_data",
                    "data": {
                        "text/html": "Commands completed successfully."
                    },
                    "metadata": {}
                },
                {
                    "output_type": "display_data",
                    "data": {
                        "text/html": "(2 rows affected)"
                    },
                    "metadata": {}
                },
                {
                    "output_type": "error",
                    "ename": "",
                    "evalue": "Msg 208, Level 16, State 1, Line 9\r\nInvalid object name 'dbo.demo2'.",
                    "traceback": []
                },
                {
                    "output_type": "display_data",
                    "data": {
                        "text/html": "Total execution time: 00:00:00.010"
                    },
                    "metadata": {}
                }
            ],
            "execution_count": 4
        },
        {
            "cell_type": "markdown",
            "source": [
                "11-2 trapping and handling errors"
            ],
            "metadata": {
                "azdata_cell_guid": "d315cc0c-1f8b-4693-b609-95ae59e1b45d"
            },
            "attachments": {}
        },
        {
            "cell_type": "code",
            "source": [
                "-- 1) attmepting to add a duplicate row in hr.department ...maybe too many semicolons\r\n",
                "USE AdventureWorks2019\r\n",
                "GO\r\n",
                "\r\n",
                "\r\n",
                "BEGIN TRY\r\n",
                "    insert into HumanResources.Department(departmentid,name,groupname,ModifiedDate)\r\n",
                "    VALUES (1,N'avena','comida',default);\r\n",
                "END TRY\r\n",
                "BEGIN CATCH\r\n",
                "    PRINT error_number();\r\n",
                "    PRINT ERROR_MESSAGE();\r\n",
                "    PRINT error_severity();\r\n",
                "END CATCH ; "
            ],
            "metadata": {
                "azdata_cell_guid": "b4b8eb87-fa38-40e1-ba46-9cd5e424a5c2",
                "tags": []
            },
            "outputs": [
                {
                    "output_type": "display_data",
                    "data": {
                        "text/html": "Commands completed successfully."
                    },
                    "metadata": {}
                },
                {
                    "output_type": "display_data",
                    "data": {
                        "text/html": "(0 rows affected)"
                    },
                    "metadata": {}
                },
                {
                    "output_type": "display_data",
                    "data": {
                        "text/html": "544"
                    },
                    "metadata": {}
                },
                {
                    "output_type": "display_data",
                    "data": {
                        "text/html": "Cannot insert explicit value for identity column in table 'Department' when IDENTITY_INSERT is set to OFF."
                    },
                    "metadata": {}
                },
                {
                    "output_type": "display_data",
                    "data": {
                        "text/html": "16"
                    },
                    "metadata": {}
                },
                {
                    "output_type": "display_data",
                    "data": {
                        "text/html": "Total execution time: 00:00:00.006"
                    },
                    "metadata": {}
                }
            ],
            "execution_count": 6
        },
        {
            "cell_type": "code",
            "source": [
                "-- 2) custom message this time\r\n",
                "USE AdventureWorks2019\r\n",
                "GO\r\n",
                "\r\n",
                "\r\n",
                "BEGIN TRY\r\n",
                "    insert into HumanResources.Department(departmentid,name,groupname,ModifiedDate)\r\n",
                "    VALUES (1,N'avena','comida',default);\r\n",
                "END TRY\r\n",
                "BEGIN CATCH\r\n",
                "    THROW 999999 , 'No se puede agregar una id que ya exista en la tabla', 1\r\n",
                "    -- RAISERROR('No se puede agregar una id que ya exista en la tabla',11, 1)\r\n",
                "END CATCH ; "
            ],
            "metadata": {
                "azdata_cell_guid": "50cc5f10-5cd7-47bb-b850-c4cc88e52122"
            },
            "outputs": [
                {
                    "output_type": "display_data",
                    "data": {
                        "text/html": "Commands completed successfully."
                    },
                    "metadata": {}
                },
                {
                    "output_type": "display_data",
                    "data": {
                        "text/html": "(0 rows affected)"
                    },
                    "metadata": {}
                },
                {
                    "output_type": "error",
                    "evalue": "Msg 999999, Level 16, State 1, Line 11\r\nNo se puede agregar una id que ya exista en la tabla",
                    "ename": "",
                    "traceback": []
                },
                {
                    "output_type": "display_data",
                    "data": {
                        "text/html": "Total execution time: 00:00:00.008"
                    },
                    "metadata": {}
                }
            ],
            "execution_count": 2
        },
        {
            "cell_type": "code",
            "source": [
                "-- 3) defining the problem with this code block ... not best practice with respect to error handling. The information containted in the error can help the user\r\n",
                "BEGIN\r\n",
                "    BEGIN TRY\r\n",
                "         SELECT 1.234 + 'A';\r\n",
                "    END TRY\r\n",
                "    BEGIN CATCH\r\n",
                "    END CATCH\r\n",
                "END;\r\n",
                "\r\n",
                ""
            ],
            "metadata": {
                "azdata_cell_guid": "bffcd585-cba3-4742-8787-8d9c0e933a11"
            },
            "outputs": [],
            "execution_count": null
        },
        {
            "cell_type": "code",
            "source": [
                "-- 4) connection will be killed with this code but error will be logged\r\n",
                "RAISERROR('message', 20, 2) WITH LOG;"
            ],
            "metadata": {
                "azdata_cell_guid": "fe5c693a-3eac-463b-adaf-2542873b31b0"
            },
            "outputs": [],
            "execution_count": null
        },
        {
            "cell_type": "code",
            "source": [
                "-- 5) another example of throw statement\r\n",
                "\r\n",
                "THROW 59999,'An error has been thrown',1 ; "
            ],
            "metadata": {
                "azdata_cell_guid": "e542449f-ff30-4488-ab91-97d26a2b0ac5"
            },
            "outputs": [
                {
                    "output_type": "error",
                    "ename": "",
                    "evalue": "Msg 59999, Level 16, State 1, Line 3\r\nAn error has been thrown",
                    "traceback": []
                },
                {
                    "output_type": "display_data",
                    "data": {
                        "text/html": "Total execution time: 00:00:00"
                    },
                    "metadata": {}
                }
            ],
            "execution_count": 8
        }
    ]
}